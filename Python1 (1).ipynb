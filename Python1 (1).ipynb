{
  "nbformat": 4,
  "nbformat_minor": 0,
  "metadata": {
    "colab": {
      "name": "Python1",
      "provenance": []
    },
    "kernelspec": {
      "name": "python3",
      "display_name": "Python 3"
    },
    "language_info": {
      "name": "python"
    }
  },
  "cells": [
    {
      "cell_type": "code",
      "metadata": {
        "id": "olzHeCQWpbuO"
      },
      "source": [
        "#My name is Wansi, I am new to coding. I am interested in learning more about Python.\n"
      ],
      "execution_count": null,
      "outputs": []
    }
  ]
}